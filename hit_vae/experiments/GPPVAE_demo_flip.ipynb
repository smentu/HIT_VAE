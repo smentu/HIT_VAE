{
 "cells": [
  {
   "cell_type": "markdown",
   "metadata": {},
   "source": [
    "# GPPVAE demo\n",
    "\n",
    "This notebook demonstrates the use of my GPPVAE implementation in with a slightly more complex configuration. The aim is to implement a mixed Gaussian prior VAE using a GPPVAE approach. This serves as a proof-of-concept for further development."
   ]
  },
  {
   "cell_type": "code",
   "execution_count": 1,
   "metadata": {},
   "outputs": [],
   "source": [
    "import os\n",
    "import csv\n",
    "import sys\n",
    "import torch\n",
    "import pickle\n",
    "import gpytorch\n",
    "import torchvision\n",
    "import numpy as np\n",
    "import pandas as pd\n",
    "import matplotlib.pyplot as plt\n",
    "\n",
    "from PIL import Image\n",
    "from torch import optim\n",
    "from torch.utils import data\n",
    "from torchvision import transforms\n",
    "from torch.nn import functional as F\n",
    "from gpytorch.kernels import RBFKernel, ScaleKernel, AdditiveKernel"
   ]
  },
  {
   "cell_type": "code",
   "execution_count": 2,
   "metadata": {},
   "outputs": [],
   "source": [
    "# we need to manually add the project directory to the path when using Jupyter notebooks\n",
    "sys.path.append(\"/home/santeri/repos/HIT_VAE\") # location on home computer\n",
    "sys.path.append(\"/u/14/mentus1/unix/repos/HIT_VAE\") # location on Aalto computers"
   ]
  },
  {
   "cell_type": "code",
   "execution_count": 3,
   "metadata": {},
   "outputs": [],
   "source": [
    "from hit_vae.models import mnist_conv_vae\n",
    "from hit_vae.models import losses\n",
    "from hit_vae.utils import data_loading\n",
    "from hit_vae.utils import plotting\n",
    "from hit_vae.basic_kernels.constant_kernel import ConstantKernel\n",
    "from hit_vae.basic_kernels.categorical_kernel import CategoricalKernel\n",
    "from hit_vae.basic_kernels.input_warping_kernel import InputWarpingKernel"
   ]
  },
  {
   "cell_type": "code",
   "execution_count": 4,
   "metadata": {},
   "outputs": [
    {
     "name": "stdout",
     "output_type": "stream",
     "text": [
      "using device: cuda\n"
     ]
    }
   ],
   "source": [
    "# use GPU if available\n",
    "device = torch.device(\"cuda\" if torch.cuda.is_available() else \"cpu\")\n",
    "#device = 'cpu'\n",
    "print(f'using device: {device}')"
   ]
  },
  {
   "cell_type": "code",
   "execution_count": 5,
   "metadata": {},
   "outputs": [],
   "source": [
    "skip_training = True"
   ]
  },
  {
   "cell_type": "markdown",
   "metadata": {},
   "source": [
    "## GPPVAE\n",
    "\n",
    "We first build, train, and evaluate the GPPVAE model\n",
    "\n",
    "### Loading the data\n",
    "\n",
    "The beginning is the same as in the VAE demo"
   ]
  },
  {
   "cell_type": "code",
   "execution_count": 6,
   "metadata": {},
   "outputs": [],
   "source": [
    "data_base_path = '../../data/mnist_gen_flip'\n",
    "# csv which contains the IDs and labels for the training data\n",
    "label_path = os.path.join(data_base_path, 'labels.csv')\n",
    "label_df = pd.read_csv(label_path, index_col=0)\n",
    "labels = torch.Tensor(label_df.values)\n",
    "#labels = label_df.to_dict(orient='index')\n",
    "# we also store all the labels in a separate list\n",
    "#list_IDs = list(labels.keys())\n",
    "list_IDs = range(len(labels))"
   ]
  },
  {
   "cell_type": "code",
   "execution_count": 7,
   "metadata": {},
   "outputs": [],
   "source": [
    "# for expariments use 50% of the samples for testing and validation and 70% for training\n",
    "test_ratio = 0.5\n",
    "\n",
    "# transformations applied to samples\n",
    "transform = transforms.Compose([\n",
    "    transforms.Grayscale(num_output_channels=1),\n",
    "    transforms.ToTensor()\n",
    "    ])\n",
    "\n",
    "# we use the Dataset class defined in utils to store the data\n",
    "training_set = data_loading.TensorLabelDataset(data_base_path, list_IDs, labels, transform=transform)\n",
    "\n",
    "n_train = len(training_set)\n",
    "#indices = list(labels.keys())\n",
    "indices = np.arange(len(training_set))\n",
    "#np.random.shuffle(indices) # we randomize the order of the samples\n",
    "\n",
    "test_split = int(np.floor(test_ratio * n_train))\n",
    "test_IDs, training_IDs = indices[:test_split], indices[test_split:]\n",
    "#print(labels[training_IDs])"
   ]
  },
  {
   "cell_type": "markdown",
   "metadata": {},
   "source": [
    "We define a custom sampler for loading test data in the same order each time"
   ]
  },
  {
   "cell_type": "code",
   "execution_count": 8,
   "metadata": {},
   "outputs": [],
   "source": [
    "from torch.utils.data import Sampler\n",
    "\n",
    "class SubsetSampler(Sampler):\n",
    "    r\"\"\"Samples elements sequentially, always in the same order.\n",
    "\n",
    "    Arguments:\n",
    "        data_source (Dataset): dataset to sample from\n",
    "    \"\"\"\n",
    "\n",
    "    def __init__(self, indices):\n",
    "        self.indices = indices\n",
    "\n",
    "    def __iter__(self):\n",
    "        return iter(self.indices)\n",
    "\n",
    "    def __len__(self):\n",
    "        return len(self.indices)"
   ]
  },
  {
   "cell_type": "code",
   "execution_count": 9,
   "metadata": {},
   "outputs": [],
   "source": [
    "#from torch.utils.data import SubsetRandomSampler\n",
    "\n",
    "# change the number of workers based on your CPU\n",
    "loader_params = {'batch_size': 32, 'num_workers': 4}\n",
    "\n",
    "training_sampler = data.SubsetRandomSampler(training_IDs)\n",
    "#test_sampler = data.SubsetRandomSampler(test_IDs)\n",
    "\n",
    "#training_sampler = SubsetSampler(training_IDs)\n",
    "test_sampler = SubsetSampler(test_IDs)\n",
    "\n",
    "# torch data loaders with parallelization for efficiency\n",
    "training_loader = data.DataLoader(training_set, **loader_params, sampler=training_sampler)\n",
    "test_loader = data.DataLoader(training_set, **loader_params, sampler=test_sampler)"
   ]
  },
  {
   "cell_type": "code",
   "execution_count": 10,
   "metadata": {},
   "outputs": [
    {
     "name": "stdout",
     "output_type": "stream",
     "text": [
      "tensor([-9., -8., -7., -6., -5., -4., -3., -2., -1.])\n"
     ]
    }
   ],
   "source": [
    "# sanity check for the training data\n",
    "image_sample, label_sample = iter(test_loader).next()\n",
    "print(label_sample[1:10, 4].view(-1))"
   ]
  },
  {
   "cell_type": "code",
   "execution_count": 11,
   "metadata": {},
   "outputs": [
    {
     "data": {
      "image/png": "[encoded data removed]",
      "text/plain": [
       "<Figure size 1080x720 with 20 Axes>"
      ]
     },
     "metadata": {},
     "output_type": "display_data"
    }
   ],
   "source": [
    "# visualize a set of samples as a check\n",
    "#images, labels = iter(training_loader).next()\n",
    "plotting.visualize_samples(iter(training_loader))"
   ]
  },
  {
   "cell_type": "markdown",
   "metadata": {},
   "source": [
    "### Neural network"
   ]
  },
  {
   "cell_type": "markdown",
   "metadata": {},
   "source": [
    "For this demo I use the same simple convolutional network model as in the VAE demo. The latent space is two dimensional for better interpretability of the results."
   ]
  },
  {
   "cell_type": "code",
   "execution_count": 12,
   "metadata": {},
   "outputs": [
    {
     "data": {
      "text/plain": [
       "DigitVae(\n",
       "  (conv1): Conv2d(1, 8, kernel_size=(3, 3), stride=(1, 1), padding=(1, 1))\n",
       "  (pool1): MaxPool2d(kernel_size=2, stride=2, padding=0, dilation=1, ceil_mode=False)\n",
       "  (conv2): Conv2d(8, 16, kernel_size=(3, 3), stride=(1, 1), padding=(1, 1))\n",
       "  (pool2): MaxPool2d(kernel_size=2, stride=2, padding=0, dilation=1, ceil_mode=False)\n",
       "  (fc1): Linear(in_features=784, out_features=32, bias=True)\n",
       "  (fc21): Linear(in_features=32, out_features=2, bias=True)\n",
       "  (fc22): Linear(in_features=32, out_features=2, bias=True)\n",
       "  (fc3): Linear(in_features=2, out_features=32, bias=True)\n",
       "  (fc4): Linear(in_features=32, out_features=64, bias=True)\n",
       "  (fc5): Linear(in_features=64, out_features=784, bias=True)\n",
       "  (deconv1): ConvTranspose2d(16, 8, kernel_size=(4, 4), stride=(2, 2), padding=(1, 1))\n",
       "  (deconv2): ConvTranspose2d(8, 1, kernel_size=(4, 4), stride=(2, 2), padding=(1, 1))\n",
       ")"
      ]
     },
     "execution_count": 12,
     "metadata": {},
     "output_type": "execute_result"
    }
   ],
   "source": [
    "# initialize the model defined in the models module\n",
    "ldim = 2\n",
    "vae_model = mnist_conv_vae.DigitVae(ldim=ldim)\n",
    "vae_model.to(device)"
   ]
  },
  {
   "cell_type": "markdown",
   "metadata": {},
   "source": [
    "The model is pretrained using a normal VAE prior, as was done by Casale et al. in their paper."
   ]
  },
  {
   "cell_type": "code",
   "execution_count": 13,
   "metadata": {},
   "outputs": [
    {
     "data": {
      "text/plain": [
       "IncompatibleKeys(missing_keys=[], unexpected_keys=[])"
      ]
     },
     "execution_count": 13,
     "metadata": {},
     "output_type": "execute_result"
    }
   ],
   "source": [
    "ckpt_name = 'basic_conv_vae_flip_MNIST.pt'\n",
    "load_path = '../../trained_models'\n",
    "vae_model.load_state_dict(torch.load(os.path.join(load_path, ckpt_name)))"
   ]
  },
  {
   "cell_type": "code",
   "execution_count": 14,
   "metadata": {},
   "outputs": [],
   "source": [
    "#vae_model.eval()\n",
    "\n",
    "#recon_images, Z, logvar = vae_model(image_sample.to(device))\n",
    "#print(Z)"
   ]
  },
  {
   "cell_type": "markdown",
   "metadata": {},
   "source": [
    "### GP prior"
   ]
  },
  {
   "cell_type": "markdown",
   "metadata": {},
   "source": [
    "In order to set a GP prior on the latent space, we use two identical gaussian process models, which are trained simultaneously with the neural network."
   ]
  },
  {
   "cell_type": "code",
   "execution_count": 15,
   "metadata": {},
   "outputs": [],
   "source": [
    "# We will use the simplest form of GP model, exact inference\n",
    "class ExactGPModel(gpytorch.models.ExactGP):\n",
    "    def __init__(self, train_x, train_y, likelihood, covar_module):\n",
    "        super(ExactGPModel, self).__init__(train_x, train_y, likelihood)\n",
    "        self.mean_module = gpytorch.means.ConstantMean()\n",
    "        self.covar_module = covar_module\n",
    "    \n",
    "    def forward(self, x):\n",
    "        mean_x = self.mean_module(x)\n",
    "        covar_x = self.covar_module(x)\n",
    "        return gpytorch.distributions.MultivariateNormal(mean_x, covar_x)"
   ]
  },
  {
   "cell_type": "code",
   "execution_count": 16,
   "metadata": {},
   "outputs": [],
   "source": [
    "#covar_module = ScaleKernel(ConstantKernel(active_dims=0)) * CategoricalKernel(active_dims=0)\n",
    "#covar_module = CategoricalKernel()#ScaleKernel(CategoricalKernel(active_dims=0))\n",
    "#covar_module = ScaleKernel(RBFKernel(active_dims=0))\n",
    "const_module = CategoricalKernel(active_dims=3) # * ScaleKernel(ConstantKernel(active_dims=4))\n",
    "iw_module = ScaleKernel(InputWarpingKernel(active_dims=4)) * CategoricalKernel(active_dims=3)\n",
    "\n",
    "covar_module = const_module + iw_module #rbf_module"
   ]
  },
  {
   "cell_type": "code",
   "execution_count": 17,
   "metadata": {},
   "outputs": [],
   "source": [
    "likelihood = gpytorch.likelihoods.GaussianLikelihood().to(device)"
   ]
  },
  {
   "cell_type": "code",
   "execution_count": 18,
   "metadata": {},
   "outputs": [
    {
     "name": "stdout",
     "output_type": "stream",
     "text": [
      "torch.Size([300, 5])\n",
      "torch.Size([300])\n"
     ]
    }
   ],
   "source": [
    "training_labels = labels[training_IDs].to(device)\n",
    "placeholder_targets = torch.zeros(len(training_labels)).view(-1)\n",
    "\n",
    "print(training_labels.shape)\n",
    "print(placeholder_targets.shape)\n",
    "\n",
    "# initialize the GP models using sample data\n",
    "gp_x = ExactGPModel(training_labels, placeholder_targets, likelihood, covar_module).to(device)\n",
    "gp_y = ExactGPModel(training_labels, placeholder_targets, likelihood, covar_module).to(device)"
   ]
  },
  {
   "cell_type": "code",
   "execution_count": 19,
   "metadata": {},
   "outputs": [
    {
     "data": {
      "text/plain": [
       "ExactGPModel(\n",
       "  (likelihood): GaussianLikelihood(\n",
       "    (quadrature): GaussHermiteQuadrature1D()\n",
       "    (noise_covar): HomoskedasticNoise(\n",
       "      (raw_noise_constraint): GreaterThan(1.000E-04)\n",
       "    )\n",
       "  )\n",
       "  (mean_module): ConstantMean()\n",
       "  (covar_module): AdditiveKernel(\n",
       "    (kernels): ModuleList(\n",
       "      (0): CategoricalKernel()\n",
       "      (1): ProductKernel(\n",
       "        (kernels): ModuleList(\n",
       "          (0): ScaleKernel(\n",
       "            (base_kernel): InputWarpingKernel(\n",
       "              (raw_lengthscale_constraint): Positive()\n",
       "            )\n",
       "            (raw_outputscale_constraint): Positive()\n",
       "          )\n",
       "          (1): CategoricalKernel()\n",
       "        )\n",
       "      )\n",
       "    )\n",
       "  )\n",
       ")"
      ]
     },
     "execution_count": 19,
     "metadata": {},
     "output_type": "execute_result"
    }
   ],
   "source": [
    "gp_x"
   ]
  },
  {
   "cell_type": "markdown",
   "metadata": {},
   "source": [
    "### Training the model"
   ]
  },
  {
   "cell_type": "code",
   "execution_count": 20,
   "metadata": {},
   "outputs": [],
   "source": [
    "vae_optimizer = optim.Adam(vae_model.parameters(), lr=0.0001)\n",
    "gp_x_optimizer = optim.Adam([ {'params': gp_x.parameters()},], lr=0.01)\n",
    "gp_y_optimizer = optim.Adam([ {'params': gp_y.parameters()},], lr=0.01)\n",
    "\n",
    "training_labels = labels[training_IDs].to(device)"
   ]
  },
  {
   "cell_type": "code",
   "execution_count": 21,
   "metadata": {},
   "outputs": [],
   "source": [
    "mll_x = gpytorch.mlls.ExactMarginalLogLikelihood(likelihood, gp_x)\n",
    "mll_y = gpytorch.mlls.ExactMarginalLogLikelihood(likelihood, gp_y)"
   ]
  },
  {
   "cell_type": "code",
   "execution_count": 22,
   "metadata": {},
   "outputs": [
    {
     "data": {
      "text/plain": [
       "DigitVae(\n",
       "  (conv1): Conv2d(1, 8, kernel_size=(3, 3), stride=(1, 1), padding=(1, 1))\n",
       "  (pool1): MaxPool2d(kernel_size=2, stride=2, padding=0, dilation=1, ceil_mode=False)\n",
       "  (conv2): Conv2d(8, 16, kernel_size=(3, 3), stride=(1, 1), padding=(1, 1))\n",
       "  (pool2): MaxPool2d(kernel_size=2, stride=2, padding=0, dilation=1, ceil_mode=False)\n",
       "  (fc1): Linear(in_features=784, out_features=32, bias=True)\n",
       "  (fc21): Linear(in_features=32, out_features=2, bias=True)\n",
       "  (fc22): Linear(in_features=32, out_features=2, bias=True)\n",
       "  (fc3): Linear(in_features=2, out_features=32, bias=True)\n",
       "  (fc4): Linear(in_features=32, out_features=64, bias=True)\n",
       "  (fc5): Linear(in_features=64, out_features=784, bias=True)\n",
       "  (deconv1): ConvTranspose2d(16, 8, kernel_size=(4, 4), stride=(2, 2), padding=(1, 1))\n",
       "  (deconv2): ConvTranspose2d(8, 1, kernel_size=(4, 4), stride=(2, 2), padding=(1, 1))\n",
       ")"
      ]
     },
     "execution_count": 22,
     "metadata": {},
     "output_type": "execute_result"
    }
   ],
   "source": [
    "gp_x.train()\n",
    "gp_y.train()\n",
    "vae_model.train()"
   ]
  },
  {
   "cell_type": "code",
   "execution_count": 23,
   "metadata": {},
   "outputs": [],
   "source": [
    "def train(epoch):\n",
    "    \n",
    "    vae_optimizer.zero_grad()\n",
    "    gp_x_optimizer.zero_grad()\n",
    "    gp_y_optimizer.zero_grad()\n",
    "    \n",
    "    gp_weight = 10\n",
    "    \n",
    "    data = torch.tensor([]).to(device)\n",
    "    raw = torch.tensor([]).to(device)\n",
    "    Z = torch.tensor([]).to(device)\n",
    "    logvars = torch.tensor([]).to(device)\n",
    "    recon_data = torch.tensor([]).to(device)\n",
    "    #labels_during_training = torch.tensor([]).to(device)\n",
    "    \n",
    "    # 1. encode, sample, reconstruct\n",
    "    \n",
    "    for batch_idx, (data_batch, labels) in enumerate(training_loader):\n",
    "        \n",
    "        data_batch = data_batch.to(device)\n",
    "        recon_batch, mu, logvar = vae_model(data_batch)\n",
    "        #print('this is mu: {}'.format(mu))\n",
    "        \n",
    "        Z_samples = vae_model.sample_latent(mu, logvar)\n",
    "        \n",
    "        raw = torch.cat((raw, mu), dim=0)\n",
    "        Z = torch.cat((Z, Z_samples), dim=0)\n",
    "        logvars = torch.cat((logvars, logvar), dim=0)\n",
    "        data = torch.cat((data, data_batch), dim=0)\n",
    "        recon_data = torch.cat((recon_data, recon_batch), dim=0)\n",
    "        #labels_during_training = torch.cat((labels_during_training, labels.to(device)), dim=0)\n",
    "    \n",
    "    #print(labels_during_training)\n",
    "    #print(training_labels)\n",
    "    \n",
    "    #print(Z.shape)\n",
    "    \n",
    "    # 2. calculate loss on the encodings\n",
    "    \n",
    "    training_Z = Z\n",
    "    training_x = training_Z[:,0].view(-1)\n",
    "    training_y = training_Z[:,1].view(-1)\n",
    "    \n",
    "    #print(training_x)\n",
    "    \n",
    "    gp_x.set_train_data(training_labels, training_x)\n",
    "    gp_y.set_train_data(training_labels, training_y)\n",
    "    \n",
    "    output_x, output_y = gp_x(training_labels), gp_y(training_labels)\n",
    "    \n",
    "    #print(output_x)\n",
    "    #print(output_y)\n",
    "    #print(training_x.shape)\n",
    "    #print(training_labels.shape)\n",
    "    \n",
    "    recon_loss = losses.recon_loss(recon_data, data) / len(test_loader.dataset)\n",
    "    gp_x_loss = -mll_x(output_x, training_x) * gp_weight\n",
    "    gp_y_loss = -mll_y(output_y, training_y) * gp_weight\n",
    "    \n",
    "    #print(output_x)\n",
    "    #print(training_x.shape)\n",
    "    \n",
    "    #print(output_x)\n",
    "    #print(training_labels.shape)\n",
    "    #print(gp_x_loss)\n",
    "    \n",
    "    pen_term = -0.5 * logvars.sum() / len(test_loader.dataset)\n",
    "    \n",
    "    #print(recon_loss)\n",
    "    #print(gp_x_loss)\n",
    "    #print(gp_y_loss)\n",
    "    #print(pen_term)\n",
    "    \n",
    "    loss = (recon_loss + gp_x_loss + gp_y_loss + pen_term)\n",
    "    \n",
    "    #for param_name, param in gp_x.named_parameters():\n",
    "    #    print(f'Parameter name: {param_name:42} value = {param.item()}')\n",
    "    \n",
    "    # 3. backwards operations\n",
    "    \n",
    "    loss.backward()\n",
    "    \n",
    "    vae_optimizer.step()\n",
    "    gp_x_optimizer.step()\n",
    "    gp_y_optimizer.step()\n",
    "    \n",
    "    \n",
    "    # 4. visualize\n",
    "    if epoch % 20 == 0:\n",
    "        plotting.visualize_latent_2D(raw.detach().cpu().numpy(), training_labels[:, 4].view(-1).cpu().numpy(), colormap='viridis',\n",
    "                                    savepath='../../results/GPPVAE_flip_test/epoch{:04d}'.format(epoch))\n",
    "        #_ = model_demo(training_loader, 'timestamp', 'viridis')\n",
    "        \n",
    "        Z = raw.detach().cpu().numpy()\n",
    "        labels = training_labels[:, 4].view(-1).cpu().numpy()\n",
    "        identities = training_labels[:, 0].view(-1).cpu().numpy()\n",
    "        \n",
    "        #print(identities)\n",
    "\n",
    "        plotting.visualize_latent_trajectories(Z, labels, identities, colormap='viridis',\n",
    "                                            savepath='../../results/GPPVAE_flip_test/epoch{:04d}_exp'.format(epoch))\n",
    "    \n",
    "    return gp_x_loss.detach().cpu().numpy() + gp_y_loss.detach().cpu().numpy(), recon_loss.detach().cpu().numpy(), pen_term.detach().cpu().numpy()"
   ]
  },
  {
   "cell_type": "code",
   "execution_count": 24,
   "metadata": {
    "scrolled": false
   },
   "outputs": [],
   "source": [
    "if not skip_training:\n",
    "    epochs = 1000\n",
    "\n",
    "    gp_losses = []\n",
    "    vae_losses = []\n",
    "    penalty_terms = []\n",
    "\n",
    "    vae_model.train()\n",
    "    gp_x.train()\n",
    "    gp_y.train()\n",
    "\n",
    "    for epoch in range(epochs):\n",
    "        gp_loss, vae_loss, pen = train(epoch)\n",
    "\n",
    "        gp_losses.append(gp_loss)\n",
    "        vae_losses.append(vae_loss)\n",
    "        penalty_terms.append(pen)\n"
   ]
  },
  {
   "cell_type": "code",
   "execution_count": 25,
   "metadata": {
    "scrolled": false
   },
   "outputs": [],
   "source": [
    "if not skip_training:\n",
    "    total_losses = [vae_losses[i] + gp_losses[i] for i in range(len(gp_losses))]\n",
    "\n",
    "    fig, ax = plt.subplots(figsize=(10, 8))\n",
    "    ax.plot(total_losses, label='total loss')\n",
    "    ax.plot(gp_losses, label='combined gp loss')\n",
    "    ax.plot(vae_losses, label='vae loss')\n",
    "    ax.plot(penalty_terms, label='penalty term')\n",
    "    ax.set_xlabel('epoch')\n",
    "    ax.set_ylabel('loss')\n",
    "    fig.legend()\n",
    "    plt.savefig('../../results/GPVAE_flip_loss.png')\n",
    "\n",
    "    plt.show()"
   ]
  },
  {
   "cell_type": "markdown",
   "metadata": {},
   "source": [
    "Make a little gif of the evolution of the latent representation"
   ]
  },
  {
   "cell_type": "markdown",
   "metadata": {},
   "source": [
    "### Evaluating the model\n",
    "\n",
    "Make a little gif of the evolution of the latent representation"
   ]
  },
  {
   "cell_type": "code",
   "execution_count": 26,
   "metadata": {},
   "outputs": [],
   "source": [
    "import imageio\n",
    "\n",
    "files = os.listdir('../../results/GPPVAE_flip_test')\n",
    "files = np.sort(files)\n",
    "#print(files)\n",
    "filenames = [f'../../results/GPPVAE_flip_test/{file}' for file in files]\n",
    "\n",
    "images = []\n",
    "for filename in filenames:\n",
    "    images.append(imageio.imread(filename))\n",
    "imageio.mimsave('../../results/GPPVAE_flip_anim_test.gif', images, duration=0.1)"
   ]
  },
  {
   "cell_type": "code",
   "execution_count": 27,
   "metadata": {},
   "outputs": [
    {
     "data": {
      "image/png": "[encoded data removed]",
      "text/plain": [
       "<Figure size 720x576 with 1 Axes>"
      ]
     },
     "metadata": {
      "needs_background": "light"
     },
     "output_type": "display_data"
    }
   ],
   "source": [
    "x = gp_x.train_targets.detach().cpu().numpy()\n",
    "y = gp_y.train_targets.detach().cpu().numpy()\n",
    "l = gp_x.train_inputs[0][:,4].view(-1).detach().cpu().numpy()\n",
    "#print(l)\n",
    "\n",
    "fig, ax = plt.subplots(figsize=(10,8))\n",
    "ax.scatter(x, y, c=l, cmap='viridis')\n",
    "ax.grid()\n",
    "ax.set_title('Training data in latent space')\n",
    "\n",
    "plt.show()"
   ]
  },
  {
   "cell_type": "code",
   "execution_count": 28,
   "metadata": {
    "scrolled": false
   },
   "outputs": [
    {
     "name": "stdout",
     "output_type": "stream",
     "text": [
      "Parameter name: likelihood.noise_covar.raw_noise           value = 0.0\n",
      "Parameter name: mean_module.constant                       value = 0.0\n",
      "Parameter name: covar_module.kernels.1.kernels.0.raw_outputscale value = 0.0\n",
      "Parameter name: covar_module.kernels.1.kernels.0.base_kernel.raw_lengthscale value = 0.0\n",
      "Parameter name: covar_module.kernels.1.kernels.0.base_kernel.c value = 1.0\n",
      "Parameter name: covar_module.kernels.1.kernels.0.base_kernel.a value = 1.0\n",
      "Parameter name: covar_module.kernels.1.kernels.0.base_kernel.b value = 0.0\n"
     ]
    }
   ],
   "source": [
    "#hypers = {\n",
    "#    'likelihood.noise_covar.raw_noise': torch.tensor(-0.19).to(device),\n",
    "#   'covar_module.outputscale': torch.tensor(0.16).to(device),\n",
    "#}\n",
    "\n",
    "#gp_x.initialize(**hypers)\n",
    "\n",
    "#gp_x.likelihood.noise_covar.noise = -0.19\n",
    "#gp_x.covar_module.outputscale = .8\n",
    "\n",
    "for param_name, param in gp_x.named_parameters():\n",
    "    print(f'Parameter name: {param_name:42} value = {param.item()}')\n",
    "    \n",
    "#print(gp_x.train_inputs)"
   ]
  },
  {
   "cell_type": "raw",
   "metadata": {},
   "source": [
    "gp_x.eval()\n",
    "gp_y.eval()\n",
    "\n",
    "test_ids = np.repeat(np.arange(1, 10), np.repeat(3, 9), axis=0)\n",
    "#print(test_ids)\n",
    "test_labels = torch.tensor(test_ids, dtype=torch.float).to(device)#.view(-1, 1).to(device)\n",
    "\n",
    "print(test_labels)\n",
    "\n",
    "pred_x = likelihood(gp_x(test_labels))\n",
    "pred_y = likelihood(gp_y(test_labels))\n",
    "\n",
    "print(pred_x.mean)"
   ]
  },
  {
   "cell_type": "raw",
   "metadata": {},
   "source": [
    "fig, ax = plt.subplots(figsize=(10, 8))\n",
    "\n",
    "scatter = ax.scatter(pred_x.mean.detach().cpu().numpy(), pred_y.mean.detach().cpu().numpy(), \n",
    "            c=test_labels.view(-1).cpu().numpy(), cmap='Set1')\n",
    "\n",
    "ax.legend(*scatter.legend_elements(), loc=\"upper right\")\n",
    "\n",
    "plt.show()"
   ]
  },
  {
   "cell_type": "markdown",
   "metadata": {},
   "source": [
    "### Saving the trained models"
   ]
  },
  {
   "cell_type": "code",
   "execution_count": 29,
   "metadata": {},
   "outputs": [],
   "source": [
    "if not skip_training:\n",
    "    # save the neural network\n",
    "    ckpt_name = 'GPP_conv_vae_noise_MNIST.pt'\n",
    "    savepath = '../../trained_models'\n",
    "    torch.save(vae_model.state_dict(), os.path.join(savepath, ckpt_name))\n",
    "\n",
    "    # save the gp models\n",
    "    torch.save(gp_x.state_dict(), os.path.join(savepath, 'gp_x_flip.pth'))\n",
    "    torch.save(gp_y.state_dict(), os.path.join(savepath, 'gp_y_flip.pth'))"
   ]
  },
  {
   "cell_type": "markdown",
   "metadata": {},
   "source": [
    "## Label inference"
   ]
  },
  {
   "cell_type": "markdown",
   "metadata": {},
   "source": [
    "We will now take observations from the training set and experiment with label inference. First we need to load in our train models, since we don't want to have to train the model again each time we restart the notebook."
   ]
  },
  {
   "cell_type": "markdown",
   "metadata": {},
   "source": [
    "### Loading the trained models"
   ]
  },
  {
   "cell_type": "code",
   "execution_count": 30,
   "metadata": {},
   "outputs": [
    {
     "data": {
      "text/plain": [
       "IncompatibleKeys(missing_keys=[], unexpected_keys=[])"
      ]
     },
     "execution_count": 30,
     "metadata": {},
     "output_type": "execute_result"
    }
   ],
   "source": [
    "ckpt_name = 'GPP_conv_vae_noise_MNIST.pt'\n",
    "load_path = '../../trained_models'\n",
    "vae_model.load_state_dict(torch.load(os.path.join(load_path, ckpt_name)))"
   ]
  },
  {
   "cell_type": "code",
   "execution_count": 31,
   "metadata": {},
   "outputs": [],
   "source": [
    "vae_model.eval()\n",
    "\n",
    "data = torch.tensor([]).to(device)\n",
    "raw = torch.tensor([]).to(device)\n",
    "Z = torch.tensor([]).to(device)\n",
    "\n",
    "logvars = torch.tensor([]).to(device)\n",
    "recon_data = torch.tensor([]).to(device)\n",
    "\n",
    "for batch_idx, (data_batch, labels) in enumerate(training_loader):\n",
    "        \n",
    "    data_batch = data_batch.to(device)\n",
    "    recon_batch, mu, logvar = vae_model(data_batch)\n",
    "    #print('this is mu: {}'.format(mu))\n",
    "\n",
    "    Z_samples = vae_model.sample_latent(mu, logvar)\n",
    "\n",
    "    raw = torch.cat((raw, mu), dim=0)\n",
    "    Z = torch.cat((Z, Z_samples), dim=0)\n",
    "    logvars = torch.cat((logvars, logvar), dim=0)\n",
    "    data = torch.cat((data, data_batch), dim=0)\n",
    "    recon_data = torch.cat((recon_data, recon_batch), dim=0)\n",
    "    #labels_during_training = torch.cat((labels_during_training, labels.to(device)), dim=0)\n",
    "\n",
    "training_Z = Z\n",
    "training_x = training_Z[:,0].view(-1)\n",
    "training_y = training_Z[:,1].view(-1)\n",
    "\n",
    "#print(training_x)\n",
    "\n",
    "#gp_x.set_train_data(training_labels, training_x)\n",
    "#gp_y.set_train_data(training_labels, training_y)"
   ]
  },
  {
   "cell_type": "code",
   "execution_count": 32,
   "metadata": {},
   "outputs": [
    {
     "data": {
      "text/plain": [
       "IncompatibleKeys(missing_keys=[], unexpected_keys=[])"
      ]
     },
     "execution_count": 32,
     "metadata": {},
     "output_type": "execute_result"
    }
   ],
   "source": [
    "x_state = torch.load(os.path.join(load_path, 'gp_x_flip.pth'))\n",
    "y_state = torch.load(os.path.join(load_path, 'gp_y_flip.pth'))\n",
    "\n",
    "gp_x = ExactGPModel(training_labels, placeholder_targets, likelihood, covar_module).to(device)\n",
    "gp_x.load_state_dict(x_state)\n",
    "\n",
    "gp_y = ExactGPModel(training_labels, placeholder_targets, likelihood, covar_module).to(device)\n",
    "gp_y.load_state_dict(y_state)"
   ]
  },
  {
   "cell_type": "markdown",
   "metadata": {},
   "source": [
    "### Preparing the test data"
   ]
  },
  {
   "cell_type": "code",
   "execution_count": 33,
   "metadata": {},
   "outputs": [],
   "source": [
    "vae_model.eval()\n",
    "\n",
    "data = torch.tensor([]).to(device)\n",
    "raw = torch.tensor([]).to(device)\n",
    "Z = torch.tensor([]).to(device)\n",
    "\n",
    "logvars = torch.tensor([]).to(device)\n",
    "recon_data = torch.tensor([]).to(device)\n",
    "test_labels = torch.tensor([]).to(device)\n",
    "\n",
    "for batch_idx, (data_batch, labels) in enumerate(test_loader):\n",
    "        \n",
    "    data_batch = data_batch.to(device)\n",
    "    recon_batch, mu, logvar = vae_model(data_batch)\n",
    "    #print('this is mu: {}'.format(mu))\n",
    "\n",
    "    Z_samples = vae_model.sample_latent(mu, logvar)\n",
    "\n",
    "    raw = torch.cat((raw, mu), dim=0)\n",
    "    Z = torch.cat((Z, Z_samples), dim=0)\n",
    "    logvars = torch.cat((logvars, logvar), dim=0)\n",
    "    data = torch.cat((data, data_batch), dim=0)\n",
    "    recon_data = torch.cat((recon_data, recon_batch), dim=0)\n",
    "    test_labels = torch.cat((test_labels, labels.to(device)), dim=0)\n",
    "\n",
    "test_Z = Z\n",
    "test_x = test_Z[:,0].view(-1)\n",
    "test_y = test_Z[:,1].view(-1)"
   ]
  },
  {
   "cell_type": "code",
   "execution_count": 34,
   "metadata": {
    "scrolled": false
   },
   "outputs": [
    {
     "data": {
      "image/png": "[encoded data removed]",
      "text/plain": [
       "<Figure size 864x864 with 1 Axes>"
      ]
     },
     "metadata": {
      "needs_background": "light"
     },
     "output_type": "display_data"
    }
   ],
   "source": [
    "fig, ax = plt.subplots(figsize=(12, 12))\n",
    "#ax.scatter(pred_x.mean.detach().cpu().numpy(), pred_y.mean.detach().cpu().numpy(), \n",
    "#            c=test_labels.view(-1).cpu().numpy(), cmap='viridis')\n",
    "scatter = ax.scatter(test_x.detach().cpu().numpy(), test_y.detach().cpu().numpy(), \n",
    "            c=test_labels[:, 4].view(-1).detach().cpu().numpy(), cmap='viridis')\n",
    "#ax.scatter(x_prime.detach().cpu().numpy(), y_prime.detach().cpu().numpy(), \n",
    "#            c='red', s=100, cmap='vididis')\n",
    "\n",
    "ax.legend(*scatter.legend_elements(), loc=\"upper right\")\n",
    "#plt.legend()\n",
    "ax.grid()\n",
    "ax.set_title('Test data in latent space')\n",
    "plt.show()"
   ]
  },
  {
   "cell_type": "code",
   "execution_count": 35,
   "metadata": {},
   "outputs": [],
   "source": [
    "def get_test_subject(id, Z, labels):\n",
    "    \"\"\"\n",
    "    Function for getting the latent representation and labels for a single subject.\n",
    "    \"\"\"\n",
    "    \n",
    "    indices = np.where(labels[:, 0].view(-1).detach().cpu().numpy() == id)\n",
    "    x_subject = Z[indices, 0]\n",
    "    y_subject = Z[indices, 1]\n",
    "    labels_subject = labels[indices,:]\n",
    "    \n",
    "    return x_subject.view(-1), y_subject.view(-1), labels_subject[0]"
   ]
  },
  {
   "cell_type": "code",
   "execution_count": 158,
   "metadata": {
    "scrolled": true
   },
   "outputs": [],
   "source": [
    "def compute_p_sick(subject_id, test_Z, test_labels, verbose=False):\n",
    "    \"\"\"\n",
    "    Helper function for calculating label normalized label likelihoods.\n",
    "    \"\"\"\n",
    "    \n",
    "    x_subject, y_subject, labels_subject = get_test_subject(subject_id, test_Z, test_labels)\n",
    "    \n",
    "    likelihoods = np.array([])\n",
    "    gp_x.eval()\n",
    "    gp_y.eval()\n",
    "    \n",
    "    true_sickness = labels_subject[0, 3].detach().cpu().numpy()\n",
    "    #print(true_sickness)\n",
    "\n",
    "    for s in [0, 1]:\n",
    "\n",
    "        l = labels_subject.clone()\n",
    "        #print(l.shape[0])\n",
    "        l[:, 3] = torch.tensor(np.repeat(s, l.shape[0])).to(device)\n",
    "        #print(l)\n",
    "\n",
    "        #l = torch.tensor(l, dtype=torch.float).view(-1).to(device)\n",
    "        #print(l)\n",
    "        output_x, output_y = gp_x(l), gp_y(l)\n",
    "\n",
    "        mll = mll_x(output_x, x_subject) + mll_y(output_y, y_subject)\n",
    "\n",
    "        mll_likelihood = torch.exp(mll).cpu().detach().numpy()\n",
    "\n",
    "        #print(f'likelihood of {s} given by mll: {true_likelihood}')\n",
    "\n",
    "        likelihoods = np.append(likelihoods, mll_likelihood)\n",
    "        #likelihoods = np.append(likelihoods, pdf_thing)\n",
    "\n",
    "    # normalize\n",
    "    probs = likelihoods / np.sum(likelihoods)\n",
    "    #mll_likelihoods = mll_likelihoods / np.sum(mll_likelihoods)\n",
    "    \n",
    "    if verbose:\n",
    "        string = 'Not sick mll: {:.3f} \\t sick mll: {:.3f} \\t true value: {}'.format(probs[0], \n",
    "                                                                                                  probs[1], true_sickness)\n",
    "        print(string)\n",
    "    return probs"
   ]
  },
  {
   "cell_type": "code",
   "execution_count": 159,
   "metadata": {},
   "outputs": [],
   "source": [
    "subject_id = 4"
   ]
  },
  {
   "cell_type": "code",
   "execution_count": 160,
   "metadata": {},
   "outputs": [
    {
     "data": {
      "image/png": "[encoded data removed]",
      "text/plain": [
       "<Figure size 864x864 with 1 Axes>"
      ]
     },
     "metadata": {
      "needs_background": "light"
     },
     "output_type": "display_data"
    }
   ],
   "source": [
    "x_subject, y_subject, labels_subject = get_test_subject(subject_id, test_Z, test_labels)\n",
    "\n",
    "fig, ax = plt.subplots(figsize=(12, 12))\n",
    "#ax.scatter(pred_x.mean.detach().cpu().numpy(), pred_y.mean.detach().cpu().numpy(), \n",
    "#            c=test_labels.view(-1).cpu().numpy(), cmap='viridis')\n",
    "ax.scatter(training_x.detach().cpu().numpy(), training_y.detach().cpu().numpy(), color='gray', \n",
    "           marker='x', label='training data')\n",
    "ax.scatter(x_subject.detach().cpu().numpy(), y_subject.detach().cpu().numpy(), \n",
    "            c=labels_subject[:, 4].view(-1).detach().cpu().numpy(), cmap='viridis', label='test subject')\n",
    "\n",
    "#ax.legend(*scatter.legend_elements(), loc=\"upper right\")\n",
    "plt.legend()\n",
    "ax.grid()\n",
    "ax.set_title(f'Subject {subject_id} measurements in latent space')\n",
    "plt.show()"
   ]
  },
  {
   "cell_type": "code",
   "execution_count": 161,
   "metadata": {},
   "outputs": [
    {
     "name": "stdout",
     "output_type": "stream",
     "text": [
      "Not sick mll: 0.838 \t sick mll: 0.162 \t true value: 1.0\n"
     ]
    }
   ],
   "source": [
    "# test the prob function on single subject\n",
    "probs = compute_p_sick(subject_id, test_Z, test_labels, verbose=True)"
   ]
  },
  {
   "cell_type": "code",
   "execution_count": 162,
   "metadata": {},
   "outputs": [
    {
     "data": {
      "image/png": "[encoded data removed]",
      "text/plain": [
       "<Figure size 576x432 with 1 Axes>"
      ]
     },
     "metadata": {
      "needs_background": "light"
     },
     "output_type": "display_data"
    }
   ],
   "source": [
    "# draw bar plot of probabilities for single subject\n",
    "fig, ax = plt.subplots(figsize=(8, 6))\n",
    "ax.bar([0,1], probs)\n",
    "ax.set_title(f'class probability for subject {subject_id}')\n",
    "ax.set_ylabel('probability')\n",
    "ax.set_ylim(top=1.1)\n",
    "plt.xticks([0,1], ('not sick', 'sick'))\n",
    "plt.show()"
   ]
  },
  {
   "cell_type": "code",
   "execution_count": 163,
   "metadata": {},
   "outputs": [
    {
     "name": "stdout",
     "output_type": "stream",
     "text": [
      "Not sick mll: 0.098 \t sick mll: 0.902 \t true value: 0.0\n",
      "Not sick mll: 0.057 \t sick mll: 0.943 \t true value: 0.0\n",
      "Not sick mll: 0.029 \t sick mll: 0.971 \t true value: 0.0\n",
      "Not sick mll: 0.613 \t sick mll: 0.387 \t true value: 1.0\n",
      "Not sick mll: 0.838 \t sick mll: 0.162 \t true value: 1.0\n",
      "Not sick mll: 0.006 \t sick mll: 0.994 \t true value: 0.0\n",
      "Not sick mll: 0.486 \t sick mll: 0.514 \t true value: 1.0\n",
      "Not sick mll: 0.916 \t sick mll: 0.084 \t true value: 1.0\n",
      "Not sick mll: 0.000 \t sick mll: 1.000 \t true value: 0.0\n",
      "Not sick mll: 0.974 \t sick mll: 0.026 \t true value: 1.0\n",
      "Not sick mll: 0.965 \t sick mll: 0.035 \t true value: 1.0\n",
      "Not sick mll: 0.000 \t sick mll: 1.000 \t true value: 0.0\n",
      "Not sick mll: 0.000 \t sick mll: 1.000 \t true value: 0.0\n",
      "Not sick mll: 0.999 \t sick mll: 0.001 \t true value: 1.0\n",
      "Not sick mll: 0.996 \t sick mll: 0.004 \t true value: 1.0\n"
     ]
    }
   ],
   "source": [
    "# calculate label probabilities for all test subjects\n",
    "for i in range(15):\n",
    "    probs = compute_p_sick(i, test_Z, test_labels, verbose=True)"
   ]
  },
  {
   "cell_type": "code",
   "execution_count": null,
   "metadata": {},
   "outputs": [],
   "source": []
  }
 ],
 "metadata": {
  "kernelspec": {
   "display_name": "Python 3",
   "language": "python",
   "name": "python3"
  },
  "language_info": {
   "codemirror_mode": {
    "name": "ipython",
    "version": 3
   },
   "file_extension": ".py",
   "mimetype": "text/x-python",
   "name": "python",
   "nbconvert_exporter": "python",
   "pygments_lexer": "ipython3",
   "version": "3.6.8"
  }
 },
 "nbformat": 4,
 "nbformat_minor": 2
}
