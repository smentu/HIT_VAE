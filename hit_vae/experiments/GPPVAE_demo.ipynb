{
 "cells": [
  {
   "cell_type": "markdown",
   "metadata": {},
   "source": [
    "# GPPVAE demo"
   ]
  },
  {
   "cell_type": "markdown",
   "metadata": {},
   "source": [
    "This notebook demonstrates the use of my GPPVAE implementation in with a basic configuration. The aim is to implement a mixed Gaussian prior VAE using a GPPVAE approach. This serves as a proof-of-concept for further development."
   ]
  },
  {
   "cell_type": "code",
   "execution_count": 1,
   "metadata": {},
   "outputs": [],
   "source": [
    "import os\n",
    "import csv\n",
    "import sys\n",
    "import torch\n",
    "import pickle\n",
    "import gpytorch\n",
    "import torchvision\n",
    "import numpy as np\n",
    "import pandas as pd\n",
    "import matplotlib.pyplot as plt\n",
    "\n",
    "from PIL import Image\n",
    "from torch import optim\n",
    "from torch.utils import data\n",
    "from torchvision import transforms\n",
    "from torch.nn import functional as F\n",
    "from gpytorch.kernels import RBFKernel, ScaleKernel, AdditiveKernel"
   ]
  },
  {
   "cell_type": "code",
   "execution_count": 2,
   "metadata": {},
   "outputs": [],
   "source": [
    "# we need to manually add the project directory to the path when using Jupyter notebooks\n",
    "sys.path.append(\"/home/santeri/repos/HIT_VAE\")\n",
    "sys.path.append(\"/u/14/mentus1/unix/repos/HIT_VAE\")"
   ]
  },
  {
   "cell_type": "code",
   "execution_count": 3,
   "metadata": {},
   "outputs": [],
   "source": [
    "from hit_vae.models import mnist_conv_vae\n",
    "from hit_vae.models import losses\n",
    "from hit_vae.utils import data_loading\n",
    "from hit_vae.utils import plotting\n",
    "from hit_vae.basic_kernels.constant_kernel import ConstantKernel\n",
    "from hit_vae.basic_kernels.categorical_kernel import CategoricalKernel\n",
    "#from hit_vae.basic_kernels.input_warping_kernel import InputWarpKernel"
   ]
  },
  {
   "cell_type": "code",
   "execution_count": 4,
   "metadata": {},
   "outputs": [
    {
     "name": "stdout",
     "output_type": "stream",
     "text": [
      "using device: cuda\n"
     ]
    }
   ],
   "source": [
    "# use GPU if available\n",
    "device = torch.device(\"cuda\" if torch.cuda.is_available() else \"cpu\")\n",
    "#device = 'cpu'\n",
    "print(f'using device: {device}')"
   ]
  },
  {
   "cell_type": "markdown",
   "metadata": {},
   "source": [
    "## Loading the data"
   ]
  },
  {
   "cell_type": "markdown",
   "metadata": {},
   "source": [
    "The beginning is the same as in the VAE demo"
   ]
  },
  {
   "cell_type": "code",
   "execution_count": 5,
   "metadata": {},
   "outputs": [],
   "source": [
    "data_base_path = '../../data/mnist_gen'\n",
    "# csv which contains the IDs and labels for the training data\n",
    "label_path = os.path.join(data_base_path, 'labels.csv')\n",
    "label_df = pd.read_csv(label_path, index_col=0)\n",
    "labels = torch.Tensor(label_df.values)\n",
    "#labels = label_df.to_dict(orient='index')\n",
    "# we also store all the labels in a separate list\n",
    "#list_IDs = list(labels.keys())\n",
    "list_IDs = range(len(labels))"
   ]
  },
  {
   "cell_type": "code",
   "execution_count": 43,
   "metadata": {},
   "outputs": [],
   "source": [
    "# for expariments use 50% of the samples for testing and validation and 70% for training\n",
    "test_ratio = 0.5\n",
    "\n",
    "# transformations applied to samples\n",
    "transform = transforms.Compose([\n",
    "    transforms.Grayscale(num_output_channels=1),\n",
    "    transforms.ToTensor()\n",
    "    ])\n",
    "\n",
    "# we use the Dataset class defined in utils to store the data\n",
    "training_set = data_loading.TensorLabelDataset(data_base_path, list_IDs, labels, transform=transform)\n",
    "\n",
    "n_train = len(training_set)\n",
    "#indices = list(labels.keys())\n",
    "indices = np.arange(len(training_set))\n",
    "np.random.shuffle(indices) # we randomize the order of the samples\n",
    "\n",
    "test_split = int(np.floor(test_ratio * n_train))\n",
    "test_IDs, training_IDs = indices[:test_split], indices[test_split:]\n",
    "#print(labels[training_IDs])"
   ]
  },
  {
   "cell_type": "markdown",
   "metadata": {},
   "source": [
    "We define a custom sampler for loading the data in the same order each epoch"
   ]
  },
  {
   "cell_type": "code",
   "execution_count": 7,
   "metadata": {},
   "outputs": [],
   "source": [
    "from torch.utils.data import Sampler\n",
    "\n",
    "class SubsetSampler(Sampler):\n",
    "    r\"\"\"Samples elements sequentially, always in the same order.\n",
    "\n",
    "    Arguments:\n",
    "        data_source (Dataset): dataset to sample from\n",
    "    \"\"\"\n",
    "\n",
    "    def __init__(self, indices):\n",
    "        self.indices = indices\n",
    "\n",
    "    def __iter__(self):\n",
    "        return iter(self.indices)\n",
    "\n",
    "    def __len__(self):\n",
    "        return len(self.indices)"
   ]
  },
  {
   "cell_type": "code",
   "execution_count": 44,
   "metadata": {},
   "outputs": [],
   "source": [
    "# change the number of workers based on your CPU\n",
    "loader_params = {'batch_size': 64, 'num_workers': 4}\n",
    "\n",
    "#training_sampler = data.SubsetRandomSampler(training_IDs)\n",
    "#test_sampler = data.SubsetRandomSampler(test_IDs)\n",
    "\n",
    "training_sampler = SubsetSampler(training_IDs)\n",
    "test_sampler = SubsetSampler(test_IDs)\n",
    "\n",
    "# torch data loaders with parallelization for efficiency\n",
    "training_loader = data.DataLoader(training_set, **loader_params, sampler=training_sampler)\n",
    "test_loader = data.DataLoader(training_set, **loader_params, sampler=test_sampler)"
   ]
  },
  {
   "cell_type": "code",
   "execution_count": 9,
   "metadata": {},
   "outputs": [
    {
     "name": "stdout",
     "output_type": "stream",
     "text": [
      "tensor([5., 2., 1., 3., 1., 1., 5., 7., 6., 6.])\n"
     ]
    }
   ],
   "source": [
    "# sanity check for the training data\n",
    "image_sample, label_sample = iter(training_loader).next()\n",
    "print(label_sample[0:10].view(-1))"
   ]
  },
  {
   "cell_type": "markdown",
   "metadata": {},
   "source": [
    "## Neural network"
   ]
  },
  {
   "cell_type": "markdown",
   "metadata": {},
   "source": [
    "For this demo I use the same simple convolutional network model as in the VAE demo. The latent space is two dimensional for better interpretability of the results."
   ]
  },
  {
   "cell_type": "code",
   "execution_count": 10,
   "metadata": {},
   "outputs": [
    {
     "data": {
      "text/plain": [
       "DigitVae(\n",
       "  (conv1): Conv2d(1, 8, kernel_size=(3, 3), stride=(1, 1), padding=(1, 1))\n",
       "  (pool1): MaxPool2d(kernel_size=2, stride=2, padding=0, dilation=1, ceil_mode=False)\n",
       "  (conv2): Conv2d(8, 16, kernel_size=(3, 3), stride=(1, 1), padding=(1, 1))\n",
       "  (pool2): MaxPool2d(kernel_size=2, stride=2, padding=0, dilation=1, ceil_mode=False)\n",
       "  (fc1): Linear(in_features=784, out_features=32, bias=True)\n",
       "  (fc21): Linear(in_features=32, out_features=2, bias=True)\n",
       "  (fc22): Linear(in_features=32, out_features=2, bias=True)\n",
       "  (fc3): Linear(in_features=2, out_features=32, bias=True)\n",
       "  (fc4): Linear(in_features=32, out_features=64, bias=True)\n",
       "  (fc5): Linear(in_features=64, out_features=784, bias=True)\n",
       "  (deconv1): ConvTranspose2d(16, 8, kernel_size=(4, 4), stride=(2, 2), padding=(1, 1))\n",
       "  (deconv2): ConvTranspose2d(8, 1, kernel_size=(4, 4), stride=(2, 2), padding=(1, 1))\n",
       ")"
      ]
     },
     "execution_count": 10,
     "metadata": {},
     "output_type": "execute_result"
    }
   ],
   "source": [
    "# initialize the model defined in the models module\n",
    "ldim = 2\n",
    "vae_model = mnist_conv_vae.DigitVae(ldim=ldim)\n",
    "vae_model.to(device)"
   ]
  },
  {
   "cell_type": "markdown",
   "metadata": {},
   "source": [
    "The model is pretrained using a normal VAE prior, as was done by Casale et al. in their paper."
   ]
  },
  {
   "cell_type": "code",
   "execution_count": 11,
   "metadata": {},
   "outputs": [
    {
     "data": {
      "text/plain": [
       "IncompatibleKeys(missing_keys=[], unexpected_keys=[])"
      ]
     },
     "execution_count": 11,
     "metadata": {},
     "output_type": "execute_result"
    }
   ],
   "source": [
    "ckpt_name = 'basic_conv_vae_noise_MNIST.pt'\n",
    "load_path = '../../trained_models'\n",
    "vae_model.load_state_dict(torch.load(os.path.join(load_path, ckpt_name)))"
   ]
  },
  {
   "cell_type": "code",
   "execution_count": 12,
   "metadata": {},
   "outputs": [],
   "source": [
    "#vae_model.eval()\n",
    "\n",
    "#recon_images, Z, logvar = vae_model(image_sample.to(device))\n",
    "#print(Z)"
   ]
  },
  {
   "cell_type": "markdown",
   "metadata": {},
   "source": [
    "## GP prior"
   ]
  },
  {
   "cell_type": "markdown",
   "metadata": {},
   "source": [
    "In order to set a GP prior on the latent space, we use two identical gaussian process models, which are trained simultaneously with the neural network."
   ]
  },
  {
   "cell_type": "code",
   "execution_count": 13,
   "metadata": {},
   "outputs": [],
   "source": [
    "# We will use the simplest form of GP model, exact inference\n",
    "class ExactGPModel(gpytorch.models.ExactGP):\n",
    "    def __init__(self, train_x, train_y, likelihood, covar_module):\n",
    "        super(ExactGPModel, self).__init__(train_x, train_y, likelihood)\n",
    "        self.mean_module = gpytorch.means.ConstantMean()\n",
    "        self.covar_module = covar_module\n",
    "    \n",
    "    def forward(self, x):\n",
    "        mean_x = self.mean_module(x)\n",
    "        covar_x = self.covar_module(x)\n",
    "        return gpytorch.distributions.MultivariateNormal(mean_x, covar_x)"
   ]
  },
  {
   "cell_type": "code",
   "execution_count": 14,
   "metadata": {},
   "outputs": [],
   "source": [
    "#covar_module = ScaleKernel(ConstantKernel(active_dims=0)) * CategoricalKernel(active_dims=0)\n",
    "covar_module = CategoricalKernel()#ScaleKernel(CategoricalKernel(active_dims=0))\n",
    "#covar_module = ScaleKernel(RBFKernel(active_dims=0))"
   ]
  },
  {
   "cell_type": "code",
   "execution_count": 15,
   "metadata": {},
   "outputs": [],
   "source": [
    "likelihood = gpytorch.likelihoods.GaussianLikelihood().to(device)"
   ]
  },
  {
   "cell_type": "code",
   "execution_count": 16,
   "metadata": {},
   "outputs": [
    {
     "name": "stdout",
     "output_type": "stream",
     "text": [
      "torch.Size([450, 1])\n",
      "torch.Size([450])\n"
     ]
    }
   ],
   "source": [
    "training_labels = labels[training_IDs].to(device)\n",
    "placeholder_targets = torch.zeros(len(training_labels)).view(-1)\n",
    "\n",
    "print(training_labels.shape)\n",
    "print(placeholder_targets.shape)\n",
    "\n",
    "# initialize the GP models using sample data\n",
    "gp_x = ExactGPModel(training_labels, placeholder_targets, likelihood, covar_module).to(device)\n",
    "gp_y = ExactGPModel(training_labels, placeholder_targets, likelihood, covar_module).to(device)"
   ]
  },
  {
   "cell_type": "code",
   "execution_count": 17,
   "metadata": {},
   "outputs": [
    {
     "data": {
      "text/plain": [
       "ExactGPModel(\n",
       "  (likelihood): GaussianLikelihood(\n",
       "    (quadrature): GaussHermiteQuadrature1D()\n",
       "    (noise_covar): HomoskedasticNoise(\n",
       "      (raw_noise_constraint): GreaterThan(1.000E-04)\n",
       "    )\n",
       "  )\n",
       "  (mean_module): ConstantMean()\n",
       "  (covar_module): CategoricalKernel()\n",
       ")"
      ]
     },
     "execution_count": 17,
     "metadata": {},
     "output_type": "execute_result"
    }
   ],
   "source": [
    "gp_x"
   ]
  },
  {
   "cell_type": "markdown",
   "metadata": {},
   "source": [
    "## Training the model"
   ]
  },
  {
   "cell_type": "code",
   "execution_count": 18,
   "metadata": {},
   "outputs": [],
   "source": [
    "vae_optimizer = optim.Adam(vae_model.parameters(), lr=0.0001)\n",
    "gp_x_optimizer = optim.Adam([ {'params': gp_x.parameters()},], lr=0.01)\n",
    "gp_y_optimizer = optim.Adam([ {'params': gp_y.parameters()},], lr=0.01)\n",
    "\n",
    "training_labels = labels[training_IDs].to(device)"
   ]
  },
  {
   "cell_type": "code",
   "execution_count": 19,
   "metadata": {},
   "outputs": [],
   "source": [
    "mll_x = gpytorch.mlls.ExactMarginalLogLikelihood(likelihood, gp_x)\n",
    "mll_y = gpytorch.mlls.ExactMarginalLogLikelihood(likelihood, gp_y)"
   ]
  },
  {
   "cell_type": "code",
   "execution_count": 20,
   "metadata": {},
   "outputs": [
    {
     "data": {
      "text/plain": [
       "DigitVae(\n",
       "  (conv1): Conv2d(1, 8, kernel_size=(3, 3), stride=(1, 1), padding=(1, 1))\n",
       "  (pool1): MaxPool2d(kernel_size=2, stride=2, padding=0, dilation=1, ceil_mode=False)\n",
       "  (conv2): Conv2d(8, 16, kernel_size=(3, 3), stride=(1, 1), padding=(1, 1))\n",
       "  (pool2): MaxPool2d(kernel_size=2, stride=2, padding=0, dilation=1, ceil_mode=False)\n",
       "  (fc1): Linear(in_features=784, out_features=32, bias=True)\n",
       "  (fc21): Linear(in_features=32, out_features=2, bias=True)\n",
       "  (fc22): Linear(in_features=32, out_features=2, bias=True)\n",
       "  (fc3): Linear(in_features=2, out_features=32, bias=True)\n",
       "  (fc4): Linear(in_features=32, out_features=64, bias=True)\n",
       "  (fc5): Linear(in_features=64, out_features=784, bias=True)\n",
       "  (deconv1): ConvTranspose2d(16, 8, kernel_size=(4, 4), stride=(2, 2), padding=(1, 1))\n",
       "  (deconv2): ConvTranspose2d(8, 1, kernel_size=(4, 4), stride=(2, 2), padding=(1, 1))\n",
       ")"
      ]
     },
     "execution_count": 20,
     "metadata": {},
     "output_type": "execute_result"
    }
   ],
   "source": [
    "gp_x.train()\n",
    "gp_y.train()\n",
    "vae_model.train()"
   ]
  },
  {
   "cell_type": "code",
   "execution_count": 21,
   "metadata": {},
   "outputs": [],
   "source": [
    "def train(epoch):\n",
    "    \n",
    "    vae_optimizer.zero_grad()\n",
    "    gp_x_optimizer.zero_grad()\n",
    "    gp_y_optimizer.zero_grad()\n",
    "    \n",
    "    gp_weight = 10\n",
    "    \n",
    "    data = torch.tensor([]).to(device)\n",
    "    raw = torch.tensor([]).to(device)\n",
    "    Z = torch.tensor([]).to(device)\n",
    "    logvars = torch.tensor([]).to(device)\n",
    "    recon_data = torch.tensor([]).to(device)\n",
    "    #labels_during_training = torch.tensor([]).to(device)\n",
    "    \n",
    "    # 1. encode, sample, reconstruct\n",
    "    \n",
    "    for batch_idx, (data_batch, labels) in enumerate(training_loader):\n",
    "        \n",
    "        data_batch = data_batch.to(device)\n",
    "        recon_batch, mu, logvar = vae_model(data_batch)\n",
    "        #print('this is mu: {}'.format(mu))\n",
    "        \n",
    "        Z_samples = vae_model.sample_latent(mu, logvar)\n",
    "        \n",
    "        raw = torch.cat((raw, mu), dim=0)\n",
    "        Z = torch.cat((Z, Z_samples), dim=0)\n",
    "        logvars = torch.cat((logvars, logvar), dim=0)\n",
    "        data = torch.cat((data, data_batch), dim=0)\n",
    "        recon_data = torch.cat((recon_data, recon_batch), dim=0)\n",
    "        #labels_during_training = torch.cat((labels_during_training, labels.to(device)), dim=0)\n",
    "    \n",
    "    #print(labels_during_training)\n",
    "    #print(training_labels)\n",
    "    \n",
    "    #print(Z.shape)\n",
    "    \n",
    "    # 2. calculate loss on the encodings\n",
    "    \n",
    "    training_Z = Z\n",
    "    training_x = training_Z[:,0].view(-1)\n",
    "    training_y = training_Z[:,1].view(-1)\n",
    "    \n",
    "    #print(training_x)\n",
    "    \n",
    "    gp_x.set_train_data(training_labels, training_x)\n",
    "    gp_y.set_train_data(training_labels, training_y)\n",
    "    \n",
    "    output_x, output_y = gp_x(training_labels), gp_y(training_labels)\n",
    "    \n",
    "    #print(output_x)\n",
    "    #print(output_y)\n",
    "    #print(training_x.shape)\n",
    "    #print(training_labels.shape)\n",
    "    \n",
    "    recon_loss = losses.recon_loss(recon_data, data) / len(test_loader.dataset)\n",
    "    gp_x_loss = -mll_x(output_x, training_x) * gp_weight\n",
    "    gp_y_loss = -mll_y(output_y, training_y) * gp_weight\n",
    "    \n",
    "    #print(output_x)\n",
    "    #print(training_x.shape)\n",
    "    \n",
    "    #print(output_x)\n",
    "    #print(training_labels.shape)\n",
    "    #print(gp_x_loss)\n",
    "    \n",
    "    pen_term = -0.5 * logvars.sum() / len(test_loader.dataset)\n",
    "    \n",
    "    #print(recon_loss)\n",
    "    #print(gp_x_loss)\n",
    "    #print(gp_y_loss)\n",
    "    #print(pen_term)\n",
    "    \n",
    "    loss = (recon_loss + gp_x_loss + gp_y_loss + pen_term)\n",
    "    \n",
    "    #for param_name, param in gp_x.named_parameters():\n",
    "    #    print(f'Parameter name: {param_name:42} value = {param.item()}')\n",
    "    \n",
    "    # 3. backwards operations\n",
    "    \n",
    "    loss.backward()\n",
    "    \n",
    "    vae_optimizer.step()\n",
    "    gp_x_optimizer.step()\n",
    "    gp_y_optimizer.step()\n",
    "    \n",
    "    \n",
    "    # 4. visualize\n",
    "    if epoch % 20 == 0:\n",
    "        plotting.visualize_latent_2D(raw.detach().cpu().numpy(), training_labels.view(-1).cpu().numpy(), colormap='Set1',\n",
    "                                    savepath='../../results/GPPVAE/epoch{:04d}'.format(epoch))\n",
    "        #_ = model_demo(training_loader, 'timestamp', 'viridis')\n",
    "    \n",
    "    return gp_x_loss.detach().cpu().numpy() + gp_y_loss.detach().cpu().numpy(), recon_loss.detach().cpu().numpy(), pen_term.detach().cpu().numpy()"
   ]
  },
  {
   "cell_type": "code",
   "execution_count": 22,
   "metadata": {
    "scrolled": false
   },
   "outputs": [],
   "source": [
    "epochs = 200\n",
    "\n",
    "gp_losses = []\n",
    "vae_losses = []\n",
    "penalty_terms = []\n",
    "\n",
    "vae_model.train()\n",
    "gp_x.train()\n",
    "gp_y.train()\n",
    "\n",
    "for epoch in range(epochs):\n",
    "    gp_loss, vae_loss, pen = train(epoch)\n",
    "    \n",
    "    gp_losses.append(gp_loss)\n",
    "    vae_losses.append(vae_loss)\n",
    "    penalty_terms.append(pen)\n",
    "  "
   ]
  },
  {
   "cell_type": "code",
   "execution_count": 23,
   "metadata": {
    "scrolled": false
   },
   "outputs": [
    {
     "data": {
      "image/png": "[encoded data removed]",
      "text/plain": [
       "<Figure size 720x576 with 1 Axes>"
      ]
     },
     "metadata": {
      "needs_background": "light"
     },
     "output_type": "display_data"
    }
   ],
   "source": [
    "total_losses = [vae_losses[i] + gp_losses[i] for i in range(len(gp_losses))]\n",
    "\n",
    "fig, ax = plt.subplots(figsize=(10, 8))\n",
    "ax.plot(total_losses, label='total loss')\n",
    "ax.plot(gp_losses, label='combined gp loss')\n",
    "ax.plot(vae_losses, label='vae loss')\n",
    "ax.plot(penalty_terms, label='penalty term')\n",
    "ax.set_xlabel('epoch')\n",
    "ax.set_ylabel('loss')\n",
    "fig.legend()\n",
    "plt.savefig('../../results/GPVAE_loss.png')\n",
    "\n",
    "plt.show()"
   ]
  },
  {
   "cell_type": "markdown",
   "metadata": {},
   "source": [
    "Make a little gif of the evolution of the latent representation"
   ]
  },
  {
   "cell_type": "markdown",
   "metadata": {},
   "source": [
    "## Evaluating the model\n",
    "\n",
    "Make a little gif of the evolution of the latent representation"
   ]
  },
  {
   "cell_type": "code",
   "execution_count": 24,
   "metadata": {},
   "outputs": [],
   "source": [
    "import imageio\n",
    "\n",
    "files = os.listdir('../../results/GPPVAE')\n",
    "files = np.sort(files)\n",
    "#print(files)\n",
    "filenames = [f'../../results/GPPVAE/{file}' for file in files]\n",
    "\n",
    "images = []\n",
    "for filename in filenames:\n",
    "    images.append(imageio.imread(filename))\n",
    "imageio.mimsave('../../results/GPPVAE_anim.gif', images, duration=0.2)"
   ]
  },
  {
   "cell_type": "code",
   "execution_count": 25,
   "metadata": {},
   "outputs": [
    {
     "data": {
      "text/plain": [
       "<matplotlib.collections.PathCollection at 0x7f131b7b7358>"
      ]
     },
     "execution_count": 25,
     "metadata": {},
     "output_type": "execute_result"
    },
    {
     "data": {
      "image/png": "[encoded data removed]",
      "text/plain": [
       "<Figure size 432x288 with 1 Axes>"
      ]
     },
     "metadata": {
      "needs_background": "light"
     },
     "output_type": "display_data"
    }
   ],
   "source": [
    "x = gp_x.train_targets.detach().cpu().numpy()\n",
    "y = gp_y.train_targets.detach().cpu().numpy()\n",
    "l = gp_x.train_inputs[0].view(-1).detach().cpu().numpy()\n",
    "\n",
    "plt.scatter(x, y, c=l, cmap='Set1')"
   ]
  },
  {
   "cell_type": "code",
   "execution_count": 26,
   "metadata": {
    "scrolled": false
   },
   "outputs": [
    {
     "name": "stdout",
     "output_type": "stream",
     "text": [
      "Parameter name: likelihood.noise_covar.raw_noise           value = -3.3040828704833984\n",
      "Parameter name: mean_module.constant                       value = 0.03143502026796341\n"
     ]
    }
   ],
   "source": [
    "#hypers = {\n",
    "#    'likelihood.noise_covar.raw_noise': torch.tensor(-0.19).to(device),\n",
    "#   'covar_module.outputscale': torch.tensor(0.16).to(device),\n",
    "#}\n",
    "\n",
    "#gp_x.initialize(**hypers)\n",
    "\n",
    "#gp_x.likelihood.noise_covar.noise = -0.19\n",
    "#gp_x.covar_module.outputscale = .8\n",
    "\n",
    "for param_name, param in gp_x.named_parameters():\n",
    "    print(f'Parameter name: {param_name:42} value = {param.item()}')\n",
    "    \n",
    "#print(gp_x.train_inputs)"
   ]
  },
  {
   "cell_type": "code",
   "execution_count": 45,
   "metadata": {},
   "outputs": [
    {
     "name": "stdout",
     "output_type": "stream",
     "text": [
      "tensor([-0.9216, -0.9216, -0.9216,  0.4901,  0.4901,  0.4901,  0.2503,  0.2503,\n",
      "         0.2503,  0.1310,  0.1310,  0.1310,  0.0544,  0.0544,  0.0544,  0.2276,\n",
      "         0.2276,  0.2276, -0.1375, -0.1375, -0.1375,  0.1093,  0.1093,  0.1093,\n",
      "         0.0918,  0.0918,  0.0918], device='cuda:0', grad_fn=<ViewBackward>)\n"
     ]
    }
   ],
   "source": [
    "gp_x.eval()\n",
    "gp_y.eval()\n",
    "\n",
    "test_ids = np.repeat(np.arange(1, 10), np.repeat(3, 9), axis=0)\n",
    "#print(test_ids)\n",
    "test_labels = torch.tensor(test_ids, dtype=torch.float).to(device)#.view(-1, 1).to(device)\n",
    "\n",
    "pred_x = likelihood(gp_x(test_labels))\n",
    "pred_y = likelihood(gp_y(test_labels))\n",
    "\n",
    "print(pred_x.mean)"
   ]
  },
  {
   "cell_type": "code",
   "execution_count": 46,
   "metadata": {},
   "outputs": [
    {
     "data": {
      "image/png": "[encoded data removed]",
      "text/plain": [
       "<Figure size 720x576 with 1 Axes>"
      ]
     },
     "metadata": {
      "needs_background": "light"
     },
     "output_type": "display_data"
    }
   ],
   "source": [
    "fig, ax = plt.subplots(figsize=(10, 8))\n",
    "\n",
    "scatter = ax.scatter(pred_x.mean.detach().cpu().numpy(), pred_y.mean.detach().cpu().numpy(), \n",
    "            c=test_labels.view(-1).cpu().numpy(), cmap='Set1')\n",
    "\n",
    "ax.legend(*scatter.legend_elements(), loc=\"upper right\")\n",
    "\n",
    "plt.show()"
   ]
  },
  {
   "cell_type": "code",
   "execution_count": 47,
   "metadata": {},
   "outputs": [],
   "source": [
    "ckpt_name = 'GPP_conv_vae_noise_MNIST.pt'\n",
    "savepath = '../../trained_models'\n",
    "torch.save(vae_model.state_dict(), os.path.join(savepath, ckpt_name))"
   ]
  },
  {
   "cell_type": "markdown",
   "metadata": {},
   "source": [
    "## Posterior inference"
   ]
  },
  {
   "cell_type": "markdown",
   "metadata": {},
   "source": [
    "We will now take observations from the training set and experiment with label inference"
   ]
  },
  {
   "cell_type": "code",
   "execution_count": 48,
   "metadata": {},
   "outputs": [
    {
     "data": {
      "text/plain": [
       "IncompatibleKeys(missing_keys=[], unexpected_keys=[])"
      ]
     },
     "execution_count": 48,
     "metadata": {},
     "output_type": "execute_result"
    }
   ],
   "source": [
    "ckpt_name = 'GPP_conv_vae_noise_MNIST.pt'\n",
    "load_path = '../../trained_models'\n",
    "vae_model.load_state_dict(torch.load(os.path.join(load_path, ckpt_name)))"
   ]
  },
  {
   "cell_type": "code",
   "execution_count": 49,
   "metadata": {},
   "outputs": [],
   "source": [
    "Y, losses = iter(test_loader).next()"
   ]
  },
  {
   "cell_type": "code",
   "execution_count": 50,
   "metadata": {
    "scrolled": false
   },
   "outputs": [],
   "source": [
    "recon_eval, mu_eval, logvar_eval = vae_model(Y.to(device))\n",
    "\n",
    "x_eval = mu_eval[:,0].view(-1)\n",
    "y_eval = mu_eval[:,1].view(-1)\n",
    "\n",
    "#x_eval"
   ]
  },
  {
   "cell_type": "code",
   "execution_count": 51,
   "metadata": {},
   "outputs": [
    {
     "data": {
      "text/plain": [
       "(tensor([0.0550], device='cuda:0', grad_fn=<ViewBackward>),\n",
       " tensor([-0.1081], device='cuda:0', grad_fn=<ViewBackward>),\n",
       " tensor([4.]))"
      ]
     },
     "execution_count": 51,
     "metadata": {},
     "output_type": "execute_result"
    }
   ],
   "source": [
    "x_prime, y_prime = x_eval[0], y_eval[0]\n",
    "x_prime, y_prime = x_prime.view(-1), y_prime.view(-1)\n",
    "l_prime = losses[0]\n",
    "\n",
    "x_prime, y_prime, l_prime"
   ]
  },
  {
   "cell_type": "code",
   "execution_count": 52,
   "metadata": {},
   "outputs": [
    {
     "data": {
      "image/png": "[encoded data removed]",
      "text/plain": [
       "<Figure size 864x864 with 1 Axes>"
      ]
     },
     "metadata": {
      "needs_background": "light"
     },
     "output_type": "display_data"
    }
   ],
   "source": [
    "fig, ax = plt.subplots(figsize=(12, 12))\n",
    "scatter = ax.scatter(pred_x.mean.detach().cpu().numpy(), pred_y.mean.detach().cpu().numpy(), \n",
    "            c=test_labels.view(-1).cpu().numpy(), cmap='Set1')\n",
    "ax.scatter(x_eval.detach().cpu().numpy(), y_eval.detach().cpu().numpy(), \n",
    "            c=losses.view(-1).cpu().numpy(), s=16, cmap='Set1')\n",
    "ax.scatter(x_prime.detach().cpu().numpy(), y_prime.detach().cpu().numpy(), \n",
    "            c='orange', s=100, cmap='Set1')\n",
    "\n",
    "ax.legend(*scatter.legend_elements(), loc=\"upper right\")\n",
    "#plt.legend()\n",
    "ax.grid()\n",
    "plt.show()"
   ]
  },
  {
   "cell_type": "code",
   "execution_count": 53,
   "metadata": {},
   "outputs": [
    {
     "data": {
      "text/plain": [
       "(tensor([0.0550], device='cuda:0', grad_fn=<ViewBackward>),\n",
       " tensor([-0.1081], device='cuda:0', grad_fn=<ViewBackward>),\n",
       " tensor([4.]))"
      ]
     },
     "execution_count": 53,
     "metadata": {},
     "output_type": "execute_result"
    }
   ],
   "source": [
    "x_prime, y_prime = x_eval[0], y_eval[0]\n",
    "x_prime, y_prime = x_prime.view(-1), y_prime.view(-1)\n",
    "l_prime = losses[0]\n",
    "\n",
    "x_prime, y_prime, l_prime"
   ]
  },
  {
   "cell_type": "code",
   "execution_count": 64,
   "metadata": {},
   "outputs": [
    {
     "name": "stdout",
     "output_type": "stream",
     "text": [
      "likelihood of observation: [0.]\n",
      "likelihood given by the mll function: 4.4066320015190286e-07\n",
      "likelihood of observation: [2.24081443e-203]\n",
      "likelihood given by the mll function: 0.0004168136802036315\n",
      "likelihood of observation: [7.44136465e-47]\n",
      "likelihood given by the mll function: 0.5046676397323608\n",
      "likelihood of observation: [1.69817101e-23]\n",
      "likelihood given by the mll function: 1.0902000665664673\n",
      "likelihood of observation: [2.39668604e-18]\n",
      "likelihood given by the mll function: 1.8424971103668213\n",
      "likelihood of observation: [6.6313962e-281]\n",
      "likelihood given by the mll function: 2.3067882466420997e-06\n",
      "likelihood of observation: [1.40965784e-111]\n",
      "likelihood given by the mll function: 0.04123619571328163\n",
      "likelihood of observation: [2.53745558e-35]\n",
      "likelihood given by the mll function: 0.8150681257247925\n",
      "likelihood of observation: [1.29802581e-50]\n",
      "likelihood given by the mll function: 0.5631865859031677\n"
     ]
    }
   ],
   "source": [
    "import math\n",
    "import scipy.stats as stats\n",
    "\n",
    "likelihoods = np.array([])\n",
    "mll_likelihoods = np.array([])\n",
    "\n",
    "for l in range(1, 10):\n",
    "    l = torch.tensor(l, dtype=torch.float).view(-1).to(device)\n",
    "    #print(l)\n",
    "    output_x_prime, output_y_prime = gp_x(l), gp_y(l)\n",
    "    \n",
    "    #print(x_prime)\n",
    "    #print(output_x_prime)\n",
    "    \n",
    "    ### TEST\n",
    "    \n",
    "    mu_x = output_x_prime.mean.cpu().detach().numpy()\n",
    "    variance_x = output_x_prime.variance.cpu().detach().numpy()\n",
    "    sigma_x = math.sqrt(variance_x)\n",
    "    test_x = x_prime.cpu().detach().numpy()\n",
    "    \n",
    "    mu_y = output_y_prime.mean.cpu().detach().numpy()\n",
    "    variance_y = output_y_prime.variance.cpu().detach().numpy()\n",
    "    sigma_y = math.sqrt(variance_y)\n",
    "    test_y = y_prime.cpu().detach().numpy()\n",
    "    \n",
    "    pdf_thing_x = stats.norm.pdf(test_x, mu_x, sigma_x)\n",
    "    pdf_thing_y = stats.norm.pdf(test_y, mu_y, sigma_y)\n",
    "    \n",
    "    #print(pdf_thing_x)\n",
    "    #print(pdf_thing_y)\n",
    "    \n",
    "    pdf_thing = pdf_thing_x * pdf_thing_y\n",
    "    \n",
    "    print(f'likelihood of observation: {pdf_thing}')\n",
    "    ### END TEST\n",
    "\n",
    "    mll = mll_x(output_x_prime, x_prime) + mll_y(output_y_prime, y_prime)\n",
    "    \n",
    "    true_likelihood = torch.exp(mll).cpu().detach().numpy()\n",
    "    \n",
    "    print(f'likelihood given by the mll function: {true_likelihood}')\n",
    "    \n",
    "    mll_likelihoods = np.append(mll_likelihoods, true_likelihood)\n",
    "    likelihoods = np.append(likelihoods, pdf_thing)\n",
    "\n",
    "# normalize\n",
    "likelihoods = likelihoods / np.sum(likelihoods)\n",
    "mll_likelihoods = mll_likelihoods / np.sum(mll_likelihoods)\n",
    "\n",
    "#print(mll_likelihoods)"
   ]
  },
  {
   "cell_type": "raw",
   "metadata": {},
   "source": [
    "import math\n",
    "import scipy.stats as stats\n",
    "\n",
    "mu = output_x_prime.mean.cpu().detach().numpy()\n",
    "variance = output_x_prime.variance.cpu().detach().numpy()\n",
    "sigma = math.sqrt(variance)\n",
    "x = np.linspace(mu - 3*sigma, mu + 3*sigma, 100)\n",
    "plt.plot(x, stats.norm.pdf(x, mu, sigma))\n",
    "plt.show()\n",
    "\n",
    "test_x = x_prime.cpu().detach().numpy()\n",
    "\n",
    "print(test_x)\n",
    "\n",
    "stats.norm.pdf(test_x, mu, sigma)"
   ]
  },
  {
   "cell_type": "code",
   "execution_count": 65,
   "metadata": {},
   "outputs": [
    {
     "data": {
      "image/png": "[encoded data removed]",
      "text/plain": [
       "<Figure size 720x432 with 2 Axes>"
      ]
     },
     "metadata": {
      "needs_background": "light"
     },
     "output_type": "display_data"
    }
   ],
   "source": [
    "fig, (ax1, ax2) = plt.subplots(1, 2, figsize=(10, 6))\n",
    "ax1.bar(range(1,10), likelihoods)\n",
    "ax1.set_title('manually computed likelihood')\n",
    "\n",
    "ax2.bar(range(1,10), mll_likelihoods, color='orange')\n",
    "ax2.set_title('mll computed likelihood')\n",
    "plt.show()"
   ]
  },
  {
   "cell_type": "code",
   "execution_count": 66,
   "metadata": {},
   "outputs": [
    {
     "data": {
      "text/plain": [
       "<matplotlib.image.AxesImage at 0x7f130b5b19e8>"
      ]
     },
     "execution_count": 66,
     "metadata": {},
     "output_type": "execute_result"
    },
    {
     "data": {
      "image/png": "[encoded data removed]",
      "text/plain": [
       "<Figure size 432x288 with 1 Axes>"
      ]
     },
     "metadata": {
      "needs_background": "light"
     },
     "output_type": "display_data"
    }
   ],
   "source": [
    "plt.imshow(Y[0].view(28,-1), cmap='gray')"
   ]
  },
  {
   "cell_type": "code",
   "execution_count": null,
   "metadata": {},
   "outputs": [],
   "source": []
  },
  {
   "cell_type": "code",
   "execution_count": null,
   "metadata": {},
   "outputs": [],
   "source": []
  }
 ],
 "metadata": {
  "kernelspec": {
   "display_name": "Python 3",
   "language": "python",
   "name": "python3"
  },
  "language_info": {
   "codemirror_mode": {
    "name": "ipython",
    "version": 3
   },
   "file_extension": ".py",
   "mimetype": "text/x-python",
   "name": "python",
   "nbconvert_exporter": "python",
   "pygments_lexer": "ipython3",
   "version": "3.6.8"
  }
 },
 "nbformat": 4,
 "nbformat_minor": 2
}
